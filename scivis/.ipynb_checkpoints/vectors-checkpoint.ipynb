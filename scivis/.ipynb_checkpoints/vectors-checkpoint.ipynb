{
 "cells": [
  {
   "cell_type": "code",
   "execution_count": 4,
   "id": "544bc3ad",
   "metadata": {},
   "outputs": [],
   "source": [
    "import numpy as np\n",
    "import pyvista as pv\n",
    "from pyvista import examples\n",
    "pv.rcParams['use_ipyvtk'] = True"
   ]
  },
  {
   "cell_type": "code",
   "execution_count": 5,
   "id": "27985738",
   "metadata": {},
   "outputs": [
    {
     "ename": "KeyError",
     "evalue": "'Data array (GlyphScale) not present in this dataset.'",
     "output_type": "error",
     "traceback": [
      "\u001b[0;31m---------------------------------------------------------------------------\u001b[0m",
      "\u001b[0;31mKeyError\u001b[0m                                  Traceback (most recent call last)",
      "Cell \u001b[0;32mIn[5], line 16\u001b[0m\n\u001b[1;32m     13\u001b[0m sphere\u001b[38;5;241m.\u001b[39mvectors \u001b[38;5;241m=\u001b[39m vectors \u001b[38;5;241m*\u001b[39m \u001b[38;5;241m0.3\u001b[39m\n\u001b[1;32m     15\u001b[0m \u001b[38;5;66;03m# plot just the arrows\u001b[39;00m\n\u001b[0;32m---> 16\u001b[0m \u001b[43msphere\u001b[49m\u001b[38;5;241;43m.\u001b[39;49m\u001b[43marrows\u001b[49m\u001b[38;5;241;43m.\u001b[39;49m\u001b[43mplot\u001b[49m\u001b[43m(\u001b[49m\u001b[43mscalars\u001b[49m\u001b[38;5;241;43m=\u001b[39;49m\u001b[38;5;124;43m'\u001b[39;49m\u001b[38;5;124;43mGlyphScale\u001b[39;49m\u001b[38;5;124;43m'\u001b[39;49m\u001b[43m)\u001b[49m\n",
      "File \u001b[0;32m~/.local/lib/python3.10/site-packages/pyvista/plotting/helpers.py:273\u001b[0m, in \u001b[0;36mplot\u001b[0;34m(var_item, off_screen, full_screen, screenshot, interactive, cpos, window_size, show_bounds, show_axes, notebook, background, text, return_img, eye_dome_lighting, volume, parallel_projection, use_ipyvtk, jupyter_backend, return_viewer, return_cpos, jupyter_kwargs, theme, hidden_line_removal, anti_aliasing, zoom, border, border_color, border_width, ssao, **kwargs)\u001b[0m\n\u001b[1;32m    271\u001b[0m         pl\u001b[38;5;241m.\u001b[39madd_composite(var_item, \u001b[38;5;241m*\u001b[39m\u001b[38;5;241m*\u001b[39mkwargs)\n\u001b[1;32m    272\u001b[0m     \u001b[38;5;28;01melse\u001b[39;00m:\n\u001b[0;32m--> 273\u001b[0m         \u001b[43mpl\u001b[49m\u001b[38;5;241;43m.\u001b[39;49m\u001b[43madd_mesh\u001b[49m\u001b[43m(\u001b[49m\u001b[43mvar_item\u001b[49m\u001b[43m,\u001b[49m\u001b[43m \u001b[49m\u001b[38;5;241;43m*\u001b[39;49m\u001b[38;5;241;43m*\u001b[39;49m\u001b[43mkwargs\u001b[49m\u001b[43m)\u001b[49m\n\u001b[1;32m    275\u001b[0m \u001b[38;5;28;01mif\u001b[39;00m text:\n\u001b[1;32m    276\u001b[0m     pl\u001b[38;5;241m.\u001b[39madd_text(text)\n",
      "File \u001b[0;32m~/.local/lib/python3.10/site-packages/pyvista/plotting/plotting.py:3017\u001b[0m, in \u001b[0;36mBasePlotter.add_mesh\u001b[0;34m(self, mesh, color, style, scalars, clim, show_edges, edge_color, point_size, line_width, opacity, flip_scalars, lighting, n_colors, interpolate_before_map, cmap, label, reset_camera, scalar_bar_args, show_scalar_bar, multi_colors, name, texture, render_points_as_spheres, render_lines_as_tubes, smooth_shading, split_sharp_edges, ambient, diffuse, specular, specular_power, nan_color, nan_opacity, culling, rgb, categories, silhouette, use_transparency, below_color, above_color, annotations, pickable, preference, log_scale, pbr, metallic, roughness, render, component, emissive, copy_mesh, backface_params, **kwargs)\u001b[0m\n\u001b[1;32m   3014\u001b[0m         rgb \u001b[38;5;241m=\u001b[39m \u001b[38;5;28;01mTrue\u001b[39;00m\n\u001b[1;32m   3016\u001b[0m original_scalar_name \u001b[38;5;241m=\u001b[39m scalars\n\u001b[0;32m-> 3017\u001b[0m scalars \u001b[38;5;241m=\u001b[39m \u001b[43mget_array\u001b[49m\u001b[43m(\u001b[49m\u001b[43mmesh\u001b[49m\u001b[43m,\u001b[49m\u001b[43m \u001b[49m\u001b[43mscalars\u001b[49m\u001b[43m,\u001b[49m\u001b[43m \u001b[49m\u001b[43mpreference\u001b[49m\u001b[38;5;241;43m=\u001b[39;49m\u001b[43mpreference\u001b[49m\u001b[43m,\u001b[49m\u001b[43m \u001b[49m\u001b[43merr\u001b[49m\u001b[38;5;241;43m=\u001b[39;49m\u001b[38;5;28;43;01mTrue\u001b[39;49;00m\u001b[43m)\u001b[49m\n\u001b[1;32m   3018\u001b[0m scalar_bar_args\u001b[38;5;241m.\u001b[39msetdefault(\u001b[38;5;124m'\u001b[39m\u001b[38;5;124mtitle\u001b[39m\u001b[38;5;124m'\u001b[39m, original_scalar_name)\n\u001b[1;32m   3019\u001b[0m scalars_name \u001b[38;5;241m=\u001b[39m original_scalar_name\n",
      "File \u001b[0;32m~/.local/lib/python3.10/site-packages/pyvista/utilities/helpers.py:405\u001b[0m, in \u001b[0;36mget_array\u001b[0;34m(mesh, name, preference, err)\u001b[0m\n\u001b[1;32m    403\u001b[0m     \u001b[38;5;28;01mreturn\u001b[39;00m farr\n\u001b[1;32m    404\u001b[0m \u001b[38;5;28;01melif\u001b[39;00m err:\n\u001b[0;32m--> 405\u001b[0m     \u001b[38;5;28;01mraise\u001b[39;00m \u001b[38;5;167;01mKeyError\u001b[39;00m(\u001b[38;5;124mf\u001b[39m\u001b[38;5;124m'\u001b[39m\u001b[38;5;124mData array (\u001b[39m\u001b[38;5;132;01m{\u001b[39;00mname\u001b[38;5;132;01m}\u001b[39;00m\u001b[38;5;124m) not present in this dataset.\u001b[39m\u001b[38;5;124m'\u001b[39m)\n\u001b[1;32m    406\u001b[0m \u001b[38;5;28;01mreturn\u001b[39;00m \u001b[38;5;28;01mNone\u001b[39;00m\n",
      "\u001b[0;31mKeyError\u001b[0m: 'Data array (GlyphScale) not present in this dataset.'"
     ]
    }
   ],
   "source": [
    "sphere = pv.Sphere(radius=3.14)\n",
    "\n",
    "# make cool swirly pattern\n",
    "vectors = np.vstack(\n",
    "    (\n",
    "        np.sin(sphere.points[:, 0]),\n",
    "        np.cos(sphere.points[:, 1]),\n",
    "        np.cos(sphere.points[:, 2]),\n",
    "    )\n",
    ").T\n",
    "\n",
    "# add and scale\n",
    "sphere.vectors = vectors * 0.3\n",
    "\n",
    "# plot just the arrows\n",
    "sphere.arrows.plot(scalars='GlyphScale')"
   ]
  },
  {
   "cell_type": "code",
   "execution_count": 3,
   "id": "7e7bcec7",
   "metadata": {},
   "outputs": [
    {
     "data": {
      "application/vnd.jupyter.widget-view+json": {
       "model_id": "1d11527c47fc482685eed86d9618edec",
       "version_major": 2,
       "version_minor": 0
      },
      "text/plain": [
       "ViewInteractiveWidget(height=768, layout=Layout(height='auto', width='100%'), width=1024)"
      ]
     },
     "metadata": {},
     "output_type": "display_data"
    },
    {
     "data": {
      "text/plain": [
       "[(34.993665425011, 45.120623825022065, 39.33712918860563),\n",
       " (-0.044190406799316406, 10.082767993211746, 4.299273356795311),\n",
       " (0.0, 0.0, 1.0)]"
      ]
     },
     "execution_count": 3,
     "metadata": {},
     "output_type": "execute_result"
    }
   ],
   "source": [
    "# Example dataset with normals\n",
    "mesh = examples.load_random_hills()\n",
    "\n",
    "# create a subset of arrows using the glyph filter\n",
    "arrows = mesh.glyph(scale=\"Normals\", orient=\"Normals\", tolerance=0.05)\n",
    "\n",
    "p = pv.Plotter()\n",
    "p.add_mesh(arrows, color=\"black\")\n",
    "p.add_mesh(mesh, scalars=\"Elevation\", cmap=\"terrain\")\n",
    "p.show()"
   ]
  },
  {
   "cell_type": "code",
   "execution_count": 4,
   "id": "e6baeee0",
   "metadata": {},
   "outputs": [
    {
     "data": {
      "application/vnd.jupyter.widget-view+json": {
       "model_id": "2512d068b62f455bae4214850589a3fa",
       "version_major": 2,
       "version_minor": 0
      },
      "text/plain": [
       "ViewInteractiveWidget(height=768, layout=Layout(height='auto', width='100%'), width=1024)"
      ]
     },
     "metadata": {},
     "output_type": "display_data"
    },
    {
     "data": {
      "text/plain": [
       "[(10.0, 9.5, -43.0),\n",
       " (87.0, 73.5, 123.0),\n",
       " (-0.502518907629606, -0.7035264706814484, 0.502518907629606)]"
      ]
     },
     "execution_count": 4,
     "metadata": {},
     "output_type": "execute_result"
    }
   ],
   "source": [
    "mesh = examples.download_blood_vessels().cell_data_to_point_data()\n",
    "mesh.set_active_scalars(\"velocity\")\n",
    "streamlines, src = mesh.streamlines(\n",
    "    return_source=True, source_radius=10, source_center=(92.46, 74.37, 135.5)\n",
    ")\n",
    "\n",
    "boundary = mesh.decimate_boundary().extract_all_edges()\n",
    "\n",
    "p = pv.Plotter()\n",
    "p.add_mesh(streamlines.tube(radius=0.2), lighting=False)\n",
    "p.add_mesh(src)\n",
    "p.add_mesh(boundary, color=\"grey\", opacity=0.25)\n",
    "p.camera_position = [(10, 9.5, -43), (87.0, 73.5, 123.0), (-0.5, -0.7, 0.5)]\n",
    "p.show()"
   ]
  },
  {
   "cell_type": "code",
   "execution_count": null,
   "id": "19eed87e",
   "metadata": {},
   "outputs": [],
   "source": []
  }
 ],
 "metadata": {
  "kernelspec": {
   "display_name": "Python 3 (ipykernel)",
   "language": "python",
   "name": "python3"
  },
  "language_info": {
   "codemirror_mode": {
    "name": "ipython",
    "version": 3
   },
   "file_extension": ".py",
   "mimetype": "text/x-python",
   "name": "python",
   "nbconvert_exporter": "python",
   "pygments_lexer": "ipython3",
   "version": "3.10.6"
  }
 },
 "nbformat": 4,
 "nbformat_minor": 5
}

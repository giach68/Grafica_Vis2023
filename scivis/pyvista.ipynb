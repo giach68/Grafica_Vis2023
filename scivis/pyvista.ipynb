{
 "cells": [
  {
   "cell_type": "code",
   "execution_count": 1,
   "metadata": {},
   "outputs": [
    {
     "name": "stderr",
     "output_type": "stream",
     "text": [
      "/home/andrea/.local/lib/python3.10/site-packages/pyvista/plotting/plotting.py:6138: UserWarning: \n",
      "Set `jupyter_backend` backend to `\"none\"` to take a screenshot within a notebook environment.\n",
      "  warnings.warn(\n"
     ]
    },
    {
     "data": {
      "application/vnd.jupyter.widget-view+json": {
       "model_id": "89d77a287da647ed8585693087bc0b93",
       "version_major": 2,
       "version_minor": 0
      },
      "text/plain": [
       "ViewInteractiveWidget(height=768, layout=Layout(height='auto', width='100%'), width=1024)"
      ]
     },
     "metadata": {},
     "output_type": "display_data"
    }
   ],
   "source": [
    "import pyvista as pv\n",
    "from pyvista import examples\n",
    "pv.set_jupyter_backend(\"ipyvtklink\")\n",
    "mesh = examples.download_bunny_coarse()\n",
    "\n",
    "p = pv.Plotter()\n",
    "p.add_mesh(mesh, show_edges=True, color='white')\n",
    "p.add_mesh(pv.PolyData(mesh.points), color='red',\n",
    "       point_size=10, render_points_as_spheres=True)\n",
    "p.camera_position = [(0.02, 0.30, 0.73),\n",
    "                 (0.02, 0.03, -0.022),\n",
    "                 (-0.03, 0.94, -0.34)]\n",
    "p.show(screenshot='bunny_nodes.png')"
   ]
  },
  {
   "cell_type": "code",
   "execution_count": 2,
   "metadata": {},
   "outputs": [
    {
     "name": "stderr",
     "output_type": "stream",
     "text": [
      "/home/andrea/.local/lib/python3.10/site-packages/pyvista/core/pointset.py:309: PyVistaDeprecationWarning: You did not specify a value for `inplace` and the default value will be changing to `False` in future versions for point-based meshes (e.g., `PolyData`). Please make sure you are not assuming this to be an inplace operation.\n",
      "  warnings.warn(DEFAULT_INPLACE_WARNING, PyVistaDeprecationWarning)\n",
      "/home/andrea/.local/lib/python3.10/site-packages/pyvista/core/pointset.py:327: PyVistaDeprecationWarning: You did not specify a value for `inplace` and the default value will be changing to `False` in future versions for point-based meshes (e.g., `PolyData`). Please make sure you are not assuming this to be an inplace operation.\n",
      "  warnings.warn(DEFAULT_INPLACE_WARNING, PyVistaDeprecationWarning)\n"
     ]
    },
    {
     "data": {
      "application/vnd.jupyter.widget-view+json": {
       "model_id": "4f05fce0ef7045e5b839c33c5bfd421e",
       "version_major": 2,
       "version_minor": 0
      },
      "text/plain": [
       "ViewInteractiveWidget(height=768, layout=Layout(height='auto', width='100%'), width=1024)"
      ]
     },
     "metadata": {},
     "output_type": "display_data"
    }
   ],
   "source": [
    "p = pv.Plotter(lighting='none')\n",
    "light = pv.Light(position=(-1, 4, 1), color='red')\n",
    "light.positional = True\n",
    "mesh = examples.download_bunny()\n",
    "mesh.rotate_x(90)\n",
    "mesh.rotate_z(180)\n",
    "p.add_mesh(mesh, specular=1.0, diffuse=0.7, smooth_shading=True)\n",
    "p.add_light(light)\n",
    "p.show(screenshot='ominous_bunny.png')"
   ]
  },
  {
   "cell_type": "code",
   "execution_count": 3,
   "metadata": {},
   "outputs": [
    {
     "data": {
      "application/vnd.jupyter.widget-view+json": {
       "model_id": "fb029fa73fed4ec6925f36220792e744",
       "version_major": 2,
       "version_minor": 0
      },
      "text/plain": [
       "ViewInteractiveWidget(height=768, layout=Layout(height='auto', width='100%'), width=1024)"
      ]
     },
     "metadata": {},
     "output_type": "display_data"
    }
   ],
   "source": [
    "\n",
    "dataset = examples.download_office()\n",
    "\n",
    "bounds = [2,4.5, 2,4.5, 1,3]\n",
    "clipped = dataset.clip_box(bounds)\n",
    "\n",
    "p = pv.Plotter()\n",
    "p.add_mesh(dataset, style='wireframe', color='blue', label='Input')\n",
    "p.add_mesh(clipped, label='Clipped')\n",
    "p.add_legend()\n",
    "p.show()"
   ]
  },
  {
   "cell_type": "code",
   "execution_count": 4,
   "metadata": {},
   "outputs": [
    {
     "data": {
      "application/vnd.jupyter.widget-view+json": {
       "model_id": "a9b7f292dca14836964c9ad6ab71d681",
       "version_major": 2,
       "version_minor": 0
      },
      "text/plain": [
       "ViewInteractiveWidget(height=768, layout=Layout(height='auto', width='100%'), width=1024)"
      ]
     },
     "metadata": {},
     "output_type": "display_data"
    }
   ],
   "source": [
    "import matplotlib.pyplot as plt\n",
    "import numpy as np\n",
    "mesh = examples.load_channels()\n",
    "# define a colormap\n",
    "\n",
    "cmap = plt.cm.get_cmap(\"tab10\", 4)\n",
    "\n",
    "\n",
    "mesh.plot(cmap=cmap)"
   ]
  },
  {
   "cell_type": "code",
   "execution_count": 7,
   "metadata": {},
   "outputs": [
    {
     "data": {
      "application/vnd.jupyter.widget-view+json": {
       "model_id": "fbe4d1f20e2e4bcabd8fd4e1d173d242",
       "version_major": 2,
       "version_minor": 0
      },
      "text/plain": [
       "ViewInteractiveWidget(height=768, layout=Layout(height='auto', width='100%'), width=1024)"
      ]
     },
     "metadata": {},
     "output_type": "display_data"
    }
   ],
   "source": [
    "slices = mesh.slice_orthogonal()\n",
    "\n",
    "slices.plot(cmap=cmap)"
   ]
  },
  {
   "cell_type": "code",
   "execution_count": 8,
   "metadata": {},
   "outputs": [
    {
     "data": {
      "application/vnd.jupyter.widget-view+json": {
       "model_id": "b5bb6b831bf7479bbf5e6474953c0d3f",
       "version_major": 2,
       "version_minor": 0
      },
      "text/plain": [
       "ViewInteractiveWidget(height=768, layout=Layout(height='auto', width='100%'), width=1024)"
      ]
     },
     "metadata": {},
     "output_type": "display_data"
    }
   ],
   "source": [
    "slices = mesh.slice_orthogonal(x=20, y=20, z=30)\n",
    "slices.plot(cmap=cmap)"
   ]
  },
  {
   "cell_type": "code",
   "execution_count": 9,
   "metadata": {},
   "outputs": [
    {
     "data": {
      "application/vnd.jupyter.widget-view+json": {
       "model_id": "31eb611af5364726b4d317a322ce2856",
       "version_major": 2,
       "version_minor": 0
      },
      "text/plain": [
       "ViewInteractiveWidget(height=768, layout=Layout(height='auto', width='100%'), width=1024)"
      ]
     },
     "metadata": {},
     "output_type": "display_data"
    }
   ],
   "source": [
    "slices = mesh.slice_along_axis(n=7, axis=\"y\")\n",
    "\n",
    "slices.plot(cmap=cmap)"
   ]
  },
  {
   "cell_type": "code",
   "execution_count": 10,
   "metadata": {},
   "outputs": [
    {
     "data": {
      "application/vnd.jupyter.widget-view+json": {
       "model_id": "928f636ec2f24730b66b76d907beb0ae",
       "version_major": 2,
       "version_minor": 0
      },
      "text/plain": [
       "ViewInteractiveWidget(height=768, layout=Layout(height='auto', width='100%'), width=1024)"
      ]
     },
     "metadata": {},
     "output_type": "display_data"
    }
   ],
   "source": [
    "# Single slice - origin defaults to the center of the mesh\n",
    "single_slice = mesh.slice(normal=[1, 1, 0])\n",
    "\n",
    "p = pv.Plotter()\n",
    "p.add_mesh(mesh.outline(), color=\"k\")\n",
    "p.add_mesh(single_slice, cmap=cmap)\n",
    "p.show()"
   ]
  },
  {
   "cell_type": "code",
   "execution_count": 11,
   "metadata": {},
   "outputs": [
    {
     "data": {
      "application/vnd.jupyter.widget-view+json": {
       "model_id": "695fa70ded30425a8fd9d71bcc079d68",
       "version_major": 2,
       "version_minor": 0
      },
      "text/plain": [
       "ViewInteractiveWidget(height=768, layout=Layout(height='auto', width='100%'), width=1024)"
      ]
     },
     "metadata": {},
     "output_type": "display_data"
    }
   ],
   "source": [
    "mesh = examples.load_random_hills()\n",
    "\n",
    "contours = mesh.contour()\n",
    "\n",
    "p = pv.Plotter()\n",
    "p.add_mesh(mesh, opacity=0.85)\n",
    "p.add_mesh(contours, color=\"white\", line_width=5)\n",
    "p.show()"
   ]
  },
  {
   "cell_type": "code",
   "execution_count": 12,
   "metadata": {},
   "outputs": [
    {
     "data": {
      "text/html": [
       "<table><tr><th>Header</th><th>Data Arrays</th></tr><tr><td>\n",
       "<table>\n",
       "<tr><th>UniformGrid</th><th>Information</th></tr>\n",
       "<tr><td>N Cells</td><td>6998400</td></tr>\n",
       "<tr><td>N Points</td><td>7109137</td></tr>\n",
       "<tr><td>X Bounds</td><td>0.000e+00, 1.800e+02</td></tr>\n",
       "<tr><td>Y Bounds</td><td>0.000e+00, 2.160e+02</td></tr>\n",
       "<tr><td>Z Bounds</td><td>0.000e+00, 1.800e+02</td></tr>\n",
       "<tr><td>Dimensions</td><td>181, 217, 181</td></tr>\n",
       "<tr><td>Spacing</td><td>1.000e+00, 1.000e+00, 1.000e+00</td></tr>\n",
       "<tr><td>N Arrays</td><td>1</td></tr>\n",
       "</table>\n",
       "\n",
       "</td><td>\n",
       "<table>\n",
       "<tr><th>Name</th><th>Field</th><th>Type</th><th>N Comp</th><th>Min</th><th>Max</th></tr>\n",
       "<tr><td><b>image_data</b></td><td>Points</td><td>uint8</td><td>1</td><td>0.000e+00</td><td>2.550e+02</td></tr>\n",
       "</table>\n",
       "\n",
       "</td></tr> </table>"
      ],
      "text/plain": [
       "UniformGrid (0x7f30ec0b8dc0)\n",
       "  N Cells:\t6998400\n",
       "  N Points:\t7109137\n",
       "  X Bounds:\t0.000e+00, 1.800e+02\n",
       "  Y Bounds:\t0.000e+00, 2.160e+02\n",
       "  Z Bounds:\t0.000e+00, 1.800e+02\n",
       "  Dimensions:\t181, 217, 181\n",
       "  Spacing:\t1.000e+00, 1.000e+00, 1.000e+00\n",
       "  N Arrays:\t1"
      ]
     },
     "execution_count": 12,
     "metadata": {},
     "output_type": "execute_result"
    }
   ],
   "source": [
    "import numpy as np\n",
    "\n",
    "vol = examples.download_brain()\n",
    "vol"
   ]
  },
  {
   "cell_type": "code",
   "execution_count": 13,
   "metadata": {},
   "outputs": [],
   "source": [
    "values = np.linspace(5, 150, num=25)"
   ]
  },
  {
   "cell_type": "code",
   "execution_count": 14,
   "metadata": {},
   "outputs": [],
   "source": [
    "surface = vol.contour([values[0]],)"
   ]
  },
  {
   "cell_type": "code",
   "execution_count": 15,
   "metadata": {},
   "outputs": [],
   "source": [
    "surfaces = [vol.contour([v]) for v in values]\n"
   ]
  },
  {
   "cell_type": "code",
   "execution_count": 16,
   "metadata": {},
   "outputs": [
    {
     "data": {
      "application/vnd.jupyter.widget-view+json": {
       "model_id": "d1f5d1fc92094b6689f8dc4dd29e9e88",
       "version_major": 2,
       "version_minor": 0
      },
      "text/plain": [
       "ViewInteractiveWidget(height=768, layout=Layout(height='auto', width='100%'), width=1024)"
      ]
     },
     "metadata": {},
     "output_type": "display_data"
    }
   ],
   "source": [
    "\n",
    "p= pv.Plotter()\n",
    "\n",
    "\n",
    "# Add initial mesh\n",
    "\n",
    "surface = surfaces[2].copy()\n",
    "p.add_mesh(surface, opacity=1, clim=vol.get_data_range())\n",
    "\n",
    "# Add outline for reference\n",
    "p.add_mesh(vol.outline_corners())\n",
    "\n",
    "p.show()"
   ]
  },
  {
   "cell_type": "code",
   "execution_count": 18,
   "metadata": {},
   "outputs": [
    {
     "name": "stdout",
     "output_type": "stream",
     "text": [
      "Orient the view, then press \"q\" to close window and produce movie\n"
     ]
    },
    {
     "data": {
      "application/vnd.jupyter.widget-view+json": {
       "model_id": "c050eebb44e2439ab85cba3088f7b6bd",
       "version_major": 2,
       "version_minor": 0
      },
      "text/plain": [
       "ViewInteractiveWidget(height=768, layout=Layout(height='auto', width='100%'), width=1024)"
      ]
     },
     "metadata": {},
     "output_type": "display_data"
    }
   ],
   "source": [
    "filename = \"isovalue.gif\"\n",
    "\n",
    "plotter = pv.Plotter(off_screen=True)\n",
    "# Open a movie file\n",
    "plotter.open_gif(filename)\n",
    "\n",
    "# Add initial mesh\n",
    "plotter.add_mesh(\n",
    "    surface,\n",
    "    opacity=0.5,\n",
    "    clim=vol.get_data_range(),\n",
    "    show_scalar_bar=False,\n",
    ")\n",
    "# Add outline for reference\n",
    "plotter.add_mesh(vol.outline_corners(), color='k')\n",
    "\n",
    "print('Orient the view, then press \"q\" to close window and produce movie')\n",
    "plotter.camera_position = [\n",
    "    (392.9783280407326, 556.4341372317185, 235.51220650196404),\n",
    "    (88.69563012828344, 119.06774369173661, 72.61750326143748),\n",
    "    (-0.19275936948097383, -0.2218876327549124, 0.9558293278131397),\n",
    "]\n",
    "\n",
    "# initial render and do NOT close\n",
    "plotter.show(auto_close=False)\n",
    "\n",
    "# Run through each frame\n",
    "for surf in surfaces:\n",
    "    surface.copy_from(surf)\n",
    "    plotter.write_frame()  # Write this frame\n",
    "# Run through backwards\n",
    "for surf in surfaces[::-1]:\n",
    "    surface.copy_from(surf)\n",
    "    plotter.write_frame()  # Write this frame\n",
    "\n",
    "# Be sure to close the plotter when finished\n",
    "plotter.close()\n"
   ]
  },
  {
   "cell_type": "code",
   "execution_count": null,
   "metadata": {},
   "outputs": [],
   "source": []
  }
 ],
 "metadata": {
  "kernelspec": {
   "display_name": "Python 3 (ipykernel)",
   "language": "python",
   "name": "python3"
  },
  "language_info": {
   "codemirror_mode": {
    "name": "ipython",
    "version": 3
   },
   "file_extension": ".py",
   "mimetype": "text/x-python",
   "name": "python",
   "nbconvert_exporter": "python",
   "pygments_lexer": "ipython3",
   "version": "3.10.6"
  }
 },
 "nbformat": 4,
 "nbformat_minor": 2
}
